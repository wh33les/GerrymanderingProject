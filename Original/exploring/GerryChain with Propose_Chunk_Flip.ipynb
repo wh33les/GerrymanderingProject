{
 "cells": [
  {
   "cell_type": "markdown",
   "id": "af1ba401",
   "metadata": {},
   "source": [
    "The following chunks of code are a simple modification of Gerrychain's [Quick Start Guide][https://gerrychain.readthedocs.io/en/latest/user/quickstart.html]. Instead of using Propose_Random_Flip, we use Propose_Chunk_Flip, which is detailed in the documentation [here][https://gerrychain.readthedocs.io/en/latest/_modules/gerrychain/proposals/proposals.html]. In every iteration, a single boundary precinct and all of its neighbors are flipped from their current district to a contiguous district.\n",
    "\n",
    "[https://gerrychain.readthedocs.io/en/latest/user/quickstart.html]:https://gerrychain.readthedocs.io/en/latest/user/quickstart.html\n",
    "\n",
    "[https://gerrychain.readthedocs.io/en/latest/_modules/gerrychain/proposals/proposals.html]:https://gerrychain.readthedocs.io/en/latest/_modules/gerrychain/proposals/proposals.html"
   ]
  },
  {
   "cell_type": "code",
   "execution_count": 1,
   "id": "65440973",
   "metadata": {},
   "outputs": [],
   "source": [
    "from gerrychain import Graph, Partition, Election\n",
    "from gerrychain.updaters import Tally, cut_edges"
   ]
  },
  {
   "cell_type": "code",
   "execution_count": 2,
   "id": "c4a01400",
   "metadata": {},
   "outputs": [],
   "source": [
    "graph = Graph.from_json(\"./data/PA_VTDs.json\")"
   ]
  },
  {
   "cell_type": "code",
   "execution_count": 3,
   "id": "6b783d26",
   "metadata": {},
   "outputs": [],
   "source": [
    "election = Election(\"SEN12\", {\"Dem\": \"USS12D\", \"Rep\": \"USS12R\"})"
   ]
  },
  {
   "cell_type": "code",
   "execution_count": 4,
   "id": "0ea11b55",
   "metadata": {},
   "outputs": [],
   "source": [
    "initial_partition = Partition(\n",
    "    graph,\n",
    "    assignment=\"CD_2011\",\n",
    "    updaters={\n",
    "        \"cut_edges\": cut_edges,\n",
    "        \"population\": Tally(\"TOTPOP\", alias=\"population\"),\n",
    "        \"SEN12\": election\n",
    "    }\n",
    ")"
   ]
  },
  {
   "cell_type": "code",
   "execution_count": 5,
   "id": "cccbd2da",
   "metadata": {},
   "outputs": [],
   "source": [
    "import pandas as pd"
   ]
  },
  {
   "cell_type": "code",
   "execution_count": 6,
   "id": "4d008abf",
   "metadata": {},
   "outputs": [],
   "source": [
    "import numpy as np"
   ]
  },
  {
   "cell_type": "code",
   "execution_count": 11,
   "id": "79386933",
   "metadata": {},
   "outputs": [],
   "source": [
    "from gerrychain import MarkovChain\n",
    "from gerrychain.constraints import single_flip_contiguous\n",
    "from gerrychain.proposals import propose_chunk_flip\n",
    "from gerrychain.accept import always_accept"
   ]
  },
  {
   "cell_type": "code",
   "execution_count": 12,
   "id": "91ff061e",
   "metadata": {},
   "outputs": [],
   "source": [
    "chain = MarkovChain(\n",
    "    proposal=propose_chunk_flip,\n",
    "    constraints=[single_flip_contiguous],\n",
    "    accept=always_accept,\n",
    "    initial_state=initial_partition,\n",
    "    total_steps=10000\n",
    ")"
   ]
  },
  {
   "cell_type": "code",
   "execution_count": 13,
   "id": "cc41931f",
   "metadata": {},
   "outputs": [],
   "source": [
    "d_percents = [partition[\"SEN12\"].percents(\"Dem\") for partition in chain]\n",
    "r_percents = [partition[\"SEN12\"].percents(\"Rep\") for partition in chain]\n",
    "d_df = pd.DataFrame(d_percents)\n",
    "r_df = pd.DataFrame(r_percents)"
   ]
  },
  {
   "cell_type": "markdown",
   "id": "8c14a083",
   "metadata": {},
   "source": [
    "The following chunk of code calculates the two extremes across all maps generated of the election results: For example, if the election code runs 10000 times, we calculate the total number of seats one by one party (Democrats in this cas) under each map. Then we take the min and the max to see how much impact Propose_Random_flip has on the election results. \n",
    "\n",
    "Since a larger number of precincts change districts after every iteration (compared to Propose_Random_Flip), we see a bigger impact on the election results"
   ]
  },
  {
   "cell_type": "code",
   "execution_count": 14,
   "id": "1227e844",
   "metadata": {},
   "outputs": [
    {
     "name": "stdout",
     "output_type": "stream",
     "text": [
      "10.0\n",
      "7.0\n"
     ]
    }
   ],
   "source": [
    "D_seats = np.zeros(len(chain))\n",
    "R_seats = np.zeros(len(chain))\n",
    "\n",
    "for j in range(len(chain)):\n",
    "    d = 0\n",
    "    r = 0\n",
    "    for i in range(18):\n",
    "        if d_df.loc[j][i] > r_df.loc[j][i]:\n",
    "            d = d + 1\n",
    "        else:\n",
    "            r = r + 1\n",
    "    D_seats[j] = d\n",
    "    R_seats[j] = r\n",
    "        \n",
    "print(D_seats.max())\n",
    "print(D_seats.min())\n",
    "#print(\"Democrats win\", d, \"seats\")\n",
    "#print(\"Remocrats win\", r, \"seats\")"
   ]
  },
  {
   "cell_type": "markdown",
   "id": "cd0f0a7f",
   "metadata": {},
   "source": [
    "The following chunck of code is also from the Quick start guide."
   ]
  },
  {
   "cell_type": "code",
   "execution_count": 15,
   "id": "6a4bcb67",
   "metadata": {},
   "outputs": [
    {
     "data": {
      "image/png": "[encoded data removed]",
      "text/plain": [
       "<Figure size 640x480 with 1 Axes>"
      ]
     },
     "metadata": {},
     "output_type": "display_data"
    }
   ],
   "source": [
    "import matplotlib.pyplot as plt\n",
    "\n",
    "ax = d_df.boxplot(positions=range(len(d_df.columns)))\n",
    "plt.plot(d_df.iloc[0], \"ro\")\n",
    "\n",
    "plt.show()"
   ]
  },
  {
   "cell_type": "markdown",
   "id": "4fae7aa4",
   "metadata": {},
   "source": [
    "Even though the election results do not vary too much there's something potentially interesting going on: There seem to be a lot of variation within some districts."
   ]
  },
  {
   "cell_type": "code",
   "execution_count": null,
   "id": "9e871eff",
   "metadata": {},
   "outputs": [],
   "source": []
  }
 ],
 "metadata": {
  "kernelspec": {
   "display_name": "Python 3 (ipykernel)",
   "language": "python",
   "name": "python3"
  },
  "language_info": {
   "codemirror_mode": {
    "name": "ipython",
    "version": 3
   },
   "file_extension": ".py",
   "mimetype": "text/x-python",
   "name": "python",
   "nbconvert_exporter": "python",
   "pygments_lexer": "ipython3",
   "version": "3.11.3"
  }
 },
 "nbformat": 4,
 "nbformat_minor": 5
}
